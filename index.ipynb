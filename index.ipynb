{
 "cells": [
  {
   "cell_type": "code",
   "execution_count": 1,
   "id": "caf079d6",
   "metadata": {},
   "outputs": [],
   "source": [
    "import pandas as pd\n",
    "import numpy as np\n",
    "import matplotlib.pyplot as plt \n",
    "import seaborn as sns\n",
    "from scipy import stats\n",
    "from datetime import timedelta\n"
   ]
  },
  {
   "cell_type": "code",
   "execution_count": 2,
   "id": "f3590dfc",
   "metadata": {},
   "outputs": [],
   "source": [
    "fg_df = pd.read_csv('fear_greed_index.csv')\n"
   ]
  },
  {
   "cell_type": "code",
   "execution_count": 3,
   "id": "be814686",
   "metadata": {},
   "outputs": [
    {
     "data": {
      "application/vnd.microsoft.datawrangler.viewer.v0+json": {
       "columns": [
        {
         "name": "index",
         "rawType": "int64",
         "type": "integer"
        },
        {
         "name": "timestamp",
         "rawType": "int64",
         "type": "integer"
        },
        {
         "name": "value",
         "rawType": "int64",
         "type": "integer"
        },
        {
         "name": "classification",
         "rawType": "object",
         "type": "string"
        },
        {
         "name": "date",
         "rawType": "object",
         "type": "string"
        }
       ],
       "ref": "c952bf18-bf29-4ce5-a8f2-4d4cc33c14d8",
       "rows": [
        [
         "0",
         "1517463000",
         "30",
         "Fear",
         "2018-02-01"
        ],
        [
         "1",
         "1517549400",
         "15",
         "Extreme Fear",
         "2018-02-02"
        ],
        [
         "2",
         "1517635800",
         "40",
         "Fear",
         "2018-02-03"
        ],
        [
         "3",
         "1517722200",
         "24",
         "Extreme Fear",
         "2018-02-04"
        ],
        [
         "4",
         "1517808600",
         "11",
         "Extreme Fear",
         "2018-02-05"
        ]
       ],
       "shape": {
        "columns": 4,
        "rows": 5
       }
      },
      "text/html": [
       "<div>\n",
       "<style scoped>\n",
       "    .dataframe tbody tr th:only-of-type {\n",
       "        vertical-align: middle;\n",
       "    }\n",
       "\n",
       "    .dataframe tbody tr th {\n",
       "        vertical-align: top;\n",
       "    }\n",
       "\n",
       "    .dataframe thead th {\n",
       "        text-align: right;\n",
       "    }\n",
       "</style>\n",
       "<table border=\"1\" class=\"dataframe\">\n",
       "  <thead>\n",
       "    <tr style=\"text-align: right;\">\n",
       "      <th></th>\n",
       "      <th>timestamp</th>\n",
       "      <th>value</th>\n",
       "      <th>classification</th>\n",
       "      <th>date</th>\n",
       "    </tr>\n",
       "  </thead>\n",
       "  <tbody>\n",
       "    <tr>\n",
       "      <th>0</th>\n",
       "      <td>1517463000</td>\n",
       "      <td>30</td>\n",
       "      <td>Fear</td>\n",
       "      <td>2018-02-01</td>\n",
       "    </tr>\n",
       "    <tr>\n",
       "      <th>1</th>\n",
       "      <td>1517549400</td>\n",
       "      <td>15</td>\n",
       "      <td>Extreme Fear</td>\n",
       "      <td>2018-02-02</td>\n",
       "    </tr>\n",
       "    <tr>\n",
       "      <th>2</th>\n",
       "      <td>1517635800</td>\n",
       "      <td>40</td>\n",
       "      <td>Fear</td>\n",
       "      <td>2018-02-03</td>\n",
       "    </tr>\n",
       "    <tr>\n",
       "      <th>3</th>\n",
       "      <td>1517722200</td>\n",
       "      <td>24</td>\n",
       "      <td>Extreme Fear</td>\n",
       "      <td>2018-02-04</td>\n",
       "    </tr>\n",
       "    <tr>\n",
       "      <th>4</th>\n",
       "      <td>1517808600</td>\n",
       "      <td>11</td>\n",
       "      <td>Extreme Fear</td>\n",
       "      <td>2018-02-05</td>\n",
       "    </tr>\n",
       "  </tbody>\n",
       "</table>\n",
       "</div>"
      ],
      "text/plain": [
       "    timestamp  value classification        date\n",
       "0  1517463000     30           Fear  2018-02-01\n",
       "1  1517549400     15   Extreme Fear  2018-02-02\n",
       "2  1517635800     40           Fear  2018-02-03\n",
       "3  1517722200     24   Extreme Fear  2018-02-04\n",
       "4  1517808600     11   Extreme Fear  2018-02-05"
      ]
     },
     "execution_count": 3,
     "metadata": {},
     "output_type": "execute_result"
    }
   ],
   "source": [
    "fg_df.head()\n"
   ]
  },
  {
   "cell_type": "code",
   "execution_count": 4,
   "id": "214762c4",
   "metadata": {},
   "outputs": [
    {
     "name": "stdout",
     "output_type": "stream",
     "text": [
      "<class 'pandas.core.frame.DataFrame'>\n",
      "RangeIndex: 2644 entries, 0 to 2643\n",
      "Data columns (total 4 columns):\n",
      " #   Column          Non-Null Count  Dtype \n",
      "---  ------          --------------  ----- \n",
      " 0   timestamp       2644 non-null   int64 \n",
      " 1   value           2644 non-null   int64 \n",
      " 2   classification  2644 non-null   object\n",
      " 3   date            2644 non-null   object\n",
      "dtypes: int64(2), object(2)\n",
      "memory usage: 82.8+ KB\n"
     ]
    }
   ],
   "source": [
    "fg_df.info()\n"
   ]
  },
  {
   "cell_type": "code",
   "execution_count": 5,
   "id": "0f8e4be7",
   "metadata": {},
   "outputs": [],
   "source": [
    "fg_df['datetime'] = pd.to_datetime(fg_df['date'])\n"
   ]
  },
  {
   "cell_type": "code",
   "execution_count": 6,
   "id": "87d143a6",
   "metadata": {},
   "outputs": [],
   "source": [
    "fg_df.set_index('datetime',inplace=True)\n",
    "fg_df.sort_index(inplace=True)\n"
   ]
  },
  {
   "cell_type": "code",
   "execution_count": 7,
   "id": "f25de51f",
   "metadata": {},
   "outputs": [
    {
     "data": {
      "application/vnd.microsoft.datawrangler.viewer.v0+json": {
       "columns": [
        {
         "name": "datetime",
         "rawType": "datetime64[ns]",
         "type": "datetime"
        },
        {
         "name": "timestamp",
         "rawType": "int64",
         "type": "integer"
        },
        {
         "name": "value",
         "rawType": "int64",
         "type": "integer"
        },
        {
         "name": "classification",
         "rawType": "object",
         "type": "string"
        },
        {
         "name": "date",
         "rawType": "object",
         "type": "string"
        }
       ],
       "ref": "e47d13ec-f0fa-4adb-9faf-c69ffc93893e",
       "rows": [
        [
         "2018-02-01 00:00:00",
         "1517463000",
         "30",
         "Fear",
         "2018-02-01"
        ],
        [
         "2018-02-02 00:00:00",
         "1517549400",
         "15",
         "Extreme Fear",
         "2018-02-02"
        ],
        [
         "2018-02-03 00:00:00",
         "1517635800",
         "40",
         "Fear",
         "2018-02-03"
        ],
        [
         "2018-02-04 00:00:00",
         "1517722200",
         "24",
         "Extreme Fear",
         "2018-02-04"
        ],
        [
         "2018-02-05 00:00:00",
         "1517808600",
         "11",
         "Extreme Fear",
         "2018-02-05"
        ]
       ],
       "shape": {
        "columns": 4,
        "rows": 5
       }
      },
      "text/html": [
       "<div>\n",
       "<style scoped>\n",
       "    .dataframe tbody tr th:only-of-type {\n",
       "        vertical-align: middle;\n",
       "    }\n",
       "\n",
       "    .dataframe tbody tr th {\n",
       "        vertical-align: top;\n",
       "    }\n",
       "\n",
       "    .dataframe thead th {\n",
       "        text-align: right;\n",
       "    }\n",
       "</style>\n",
       "<table border=\"1\" class=\"dataframe\">\n",
       "  <thead>\n",
       "    <tr style=\"text-align: right;\">\n",
       "      <th></th>\n",
       "      <th>timestamp</th>\n",
       "      <th>value</th>\n",
       "      <th>classification</th>\n",
       "      <th>date</th>\n",
       "    </tr>\n",
       "    <tr>\n",
       "      <th>datetime</th>\n",
       "      <th></th>\n",
       "      <th></th>\n",
       "      <th></th>\n",
       "      <th></th>\n",
       "    </tr>\n",
       "  </thead>\n",
       "  <tbody>\n",
       "    <tr>\n",
       "      <th>2018-02-01</th>\n",
       "      <td>1517463000</td>\n",
       "      <td>30</td>\n",
       "      <td>Fear</td>\n",
       "      <td>2018-02-01</td>\n",
       "    </tr>\n",
       "    <tr>\n",
       "      <th>2018-02-02</th>\n",
       "      <td>1517549400</td>\n",
       "      <td>15</td>\n",
       "      <td>Extreme Fear</td>\n",
       "      <td>2018-02-02</td>\n",
       "    </tr>\n",
       "    <tr>\n",
       "      <th>2018-02-03</th>\n",
       "      <td>1517635800</td>\n",
       "      <td>40</td>\n",
       "      <td>Fear</td>\n",
       "      <td>2018-02-03</td>\n",
       "    </tr>\n",
       "    <tr>\n",
       "      <th>2018-02-04</th>\n",
       "      <td>1517722200</td>\n",
       "      <td>24</td>\n",
       "      <td>Extreme Fear</td>\n",
       "      <td>2018-02-04</td>\n",
       "    </tr>\n",
       "    <tr>\n",
       "      <th>2018-02-05</th>\n",
       "      <td>1517808600</td>\n",
       "      <td>11</td>\n",
       "      <td>Extreme Fear</td>\n",
       "      <td>2018-02-05</td>\n",
       "    </tr>\n",
       "  </tbody>\n",
       "</table>\n",
       "</div>"
      ],
      "text/plain": [
       "             timestamp  value classification        date\n",
       "datetime                                                \n",
       "2018-02-01  1517463000     30           Fear  2018-02-01\n",
       "2018-02-02  1517549400     15   Extreme Fear  2018-02-02\n",
       "2018-02-03  1517635800     40           Fear  2018-02-03\n",
       "2018-02-04  1517722200     24   Extreme Fear  2018-02-04\n",
       "2018-02-05  1517808600     11   Extreme Fear  2018-02-05"
      ]
     },
     "execution_count": 7,
     "metadata": {},
     "output_type": "execute_result"
    }
   ],
   "source": [
    "fg_df.head()\n"
   ]
  },
  {
   "cell_type": "code",
   "execution_count": 8,
   "id": "7269b21d",
   "metadata": {},
   "outputs": [],
   "source": [
    "hl_df = pd.read_csv('historical_data.csv')\n"
   ]
  },
  {
   "cell_type": "code",
   "execution_count": 9,
   "id": "52907562",
   "metadata": {},
   "outputs": [
    {
     "data": {
      "application/vnd.microsoft.datawrangler.viewer.v0+json": {
       "columns": [
        {
         "name": "index",
         "rawType": "int64",
         "type": "integer"
        },
        {
         "name": "Account",
         "rawType": "object",
         "type": "string"
        },
        {
         "name": "Coin",
         "rawType": "object",
         "type": "string"
        },
        {
         "name": "Execution Price",
         "rawType": "float64",
         "type": "float"
        },
        {
         "name": "Size Tokens",
         "rawType": "float64",
         "type": "float"
        },
        {
         "name": "Size USD",
         "rawType": "float64",
         "type": "float"
        },
        {
         "name": "Side",
         "rawType": "object",
         "type": "string"
        },
        {
         "name": "Timestamp IST",
         "rawType": "object",
         "type": "string"
        },
        {
         "name": "Start Position",
         "rawType": "float64",
         "type": "float"
        },
        {
         "name": "Direction",
         "rawType": "object",
         "type": "string"
        },
        {
         "name": "Closed PnL",
         "rawType": "float64",
         "type": "float"
        },
        {
         "name": "Transaction Hash",
         "rawType": "object",
         "type": "string"
        },
        {
         "name": "Order ID",
         "rawType": "int64",
         "type": "integer"
        },
        {
         "name": "Crossed",
         "rawType": "bool",
         "type": "boolean"
        },
        {
         "name": "Fee",
         "rawType": "float64",
         "type": "float"
        },
        {
         "name": "Trade ID",
         "rawType": "float64",
         "type": "float"
        },
        {
         "name": "Timestamp",
         "rawType": "float64",
         "type": "float"
        }
       ],
       "ref": "84b8f878-a097-48ae-a4db-e139202558b8",
       "rows": [
        [
         "0",
         "0xae5eacaf9c6b9111fd53034a602c192a04e082ed",
         "@107",
         "7.9769",
         "986.87",
         "7872.16",
         "BUY",
         "02-12-2024 22:50",
         "0.0",
         "Buy",
         "0.0",
         "0xec09451986a1874e3a980418412fcd0201f500c95bac0f37caef8a734502ec49",
         "52017706630",
         "True",
         "0.34540448",
         "895000000000000.0",
         "1730000000000.0"
        ],
        [
         "1",
         "0xae5eacaf9c6b9111fd53034a602c192a04e082ed",
         "@107",
         "7.98",
         "16.0",
         "127.68",
         "BUY",
         "02-12-2024 22:50",
         "986.5245955",
         "Buy",
         "0.0",
         "0xec09451986a1874e3a980418412fcd0201f500c95bac0f37caef8a734502ec49",
         "52017706630",
         "True",
         "0.0056",
         "443000000000000.0",
         "1730000000000.0"
        ],
        [
         "2",
         "0xae5eacaf9c6b9111fd53034a602c192a04e082ed",
         "@107",
         "7.9855",
         "144.09",
         "1150.63",
         "BUY",
         "02-12-2024 22:50",
         "1002.518996",
         "Buy",
         "0.0",
         "0xec09451986a1874e3a980418412fcd0201f500c95bac0f37caef8a734502ec49",
         "52017706630",
         "True",
         "0.0504314",
         "660000000000000.0",
         "1730000000000.0"
        ],
        [
         "3",
         "0xae5eacaf9c6b9111fd53034a602c192a04e082ed",
         "@107",
         "7.9874",
         "142.98",
         "1142.04",
         "BUY",
         "02-12-2024 22:50",
         "1146.558564",
         "Buy",
         "0.0",
         "0xec09451986a1874e3a980418412fcd0201f500c95bac0f37caef8a734502ec49",
         "52017706630",
         "True",
         "0.05004294",
         "1080000000000000.0",
         "1730000000000.0"
        ],
        [
         "4",
         "0xae5eacaf9c6b9111fd53034a602c192a04e082ed",
         "@107",
         "7.9894",
         "8.73",
         "69.75",
         "BUY",
         "02-12-2024 22:50",
         "1289.488521",
         "Buy",
         "0.0",
         "0xec09451986a1874e3a980418412fcd0201f500c95bac0f37caef8a734502ec49",
         "52017706630",
         "True",
         "0.00305542",
         "1050000000000000.0",
         "1730000000000.0"
        ]
       ],
       "shape": {
        "columns": 16,
        "rows": 5
       }
      },
      "text/html": [
       "<div>\n",
       "<style scoped>\n",
       "    .dataframe tbody tr th:only-of-type {\n",
       "        vertical-align: middle;\n",
       "    }\n",
       "\n",
       "    .dataframe tbody tr th {\n",
       "        vertical-align: top;\n",
       "    }\n",
       "\n",
       "    .dataframe thead th {\n",
       "        text-align: right;\n",
       "    }\n",
       "</style>\n",
       "<table border=\"1\" class=\"dataframe\">\n",
       "  <thead>\n",
       "    <tr style=\"text-align: right;\">\n",
       "      <th></th>\n",
       "      <th>Account</th>\n",
       "      <th>Coin</th>\n",
       "      <th>Execution Price</th>\n",
       "      <th>Size Tokens</th>\n",
       "      <th>Size USD</th>\n",
       "      <th>Side</th>\n",
       "      <th>Timestamp IST</th>\n",
       "      <th>Start Position</th>\n",
       "      <th>Direction</th>\n",
       "      <th>Closed PnL</th>\n",
       "      <th>Transaction Hash</th>\n",
       "      <th>Order ID</th>\n",
       "      <th>Crossed</th>\n",
       "      <th>Fee</th>\n",
       "      <th>Trade ID</th>\n",
       "      <th>Timestamp</th>\n",
       "    </tr>\n",
       "  </thead>\n",
       "  <tbody>\n",
       "    <tr>\n",
       "      <th>0</th>\n",
       "      <td>0xae5eacaf9c6b9111fd53034a602c192a04e082ed</td>\n",
       "      <td>@107</td>\n",
       "      <td>7.9769</td>\n",
       "      <td>986.87</td>\n",
       "      <td>7872.16</td>\n",
       "      <td>BUY</td>\n",
       "      <td>02-12-2024 22:50</td>\n",
       "      <td>0.000000</td>\n",
       "      <td>Buy</td>\n",
       "      <td>0.0</td>\n",
       "      <td>0xec09451986a1874e3a980418412fcd0201f500c95bac...</td>\n",
       "      <td>52017706630</td>\n",
       "      <td>True</td>\n",
       "      <td>0.345404</td>\n",
       "      <td>8.950000e+14</td>\n",
       "      <td>1.730000e+12</td>\n",
       "    </tr>\n",
       "    <tr>\n",
       "      <th>1</th>\n",
       "      <td>0xae5eacaf9c6b9111fd53034a602c192a04e082ed</td>\n",
       "      <td>@107</td>\n",
       "      <td>7.9800</td>\n",
       "      <td>16.00</td>\n",
       "      <td>127.68</td>\n",
       "      <td>BUY</td>\n",
       "      <td>02-12-2024 22:50</td>\n",
       "      <td>986.524596</td>\n",
       "      <td>Buy</td>\n",
       "      <td>0.0</td>\n",
       "      <td>0xec09451986a1874e3a980418412fcd0201f500c95bac...</td>\n",
       "      <td>52017706630</td>\n",
       "      <td>True</td>\n",
       "      <td>0.005600</td>\n",
       "      <td>4.430000e+14</td>\n",
       "      <td>1.730000e+12</td>\n",
       "    </tr>\n",
       "    <tr>\n",
       "      <th>2</th>\n",
       "      <td>0xae5eacaf9c6b9111fd53034a602c192a04e082ed</td>\n",
       "      <td>@107</td>\n",
       "      <td>7.9855</td>\n",
       "      <td>144.09</td>\n",
       "      <td>1150.63</td>\n",
       "      <td>BUY</td>\n",
       "      <td>02-12-2024 22:50</td>\n",
       "      <td>1002.518996</td>\n",
       "      <td>Buy</td>\n",
       "      <td>0.0</td>\n",
       "      <td>0xec09451986a1874e3a980418412fcd0201f500c95bac...</td>\n",
       "      <td>52017706630</td>\n",
       "      <td>True</td>\n",
       "      <td>0.050431</td>\n",
       "      <td>6.600000e+14</td>\n",
       "      <td>1.730000e+12</td>\n",
       "    </tr>\n",
       "    <tr>\n",
       "      <th>3</th>\n",
       "      <td>0xae5eacaf9c6b9111fd53034a602c192a04e082ed</td>\n",
       "      <td>@107</td>\n",
       "      <td>7.9874</td>\n",
       "      <td>142.98</td>\n",
       "      <td>1142.04</td>\n",
       "      <td>BUY</td>\n",
       "      <td>02-12-2024 22:50</td>\n",
       "      <td>1146.558564</td>\n",
       "      <td>Buy</td>\n",
       "      <td>0.0</td>\n",
       "      <td>0xec09451986a1874e3a980418412fcd0201f500c95bac...</td>\n",
       "      <td>52017706630</td>\n",
       "      <td>True</td>\n",
       "      <td>0.050043</td>\n",
       "      <td>1.080000e+15</td>\n",
       "      <td>1.730000e+12</td>\n",
       "    </tr>\n",
       "    <tr>\n",
       "      <th>4</th>\n",
       "      <td>0xae5eacaf9c6b9111fd53034a602c192a04e082ed</td>\n",
       "      <td>@107</td>\n",
       "      <td>7.9894</td>\n",
       "      <td>8.73</td>\n",
       "      <td>69.75</td>\n",
       "      <td>BUY</td>\n",
       "      <td>02-12-2024 22:50</td>\n",
       "      <td>1289.488521</td>\n",
       "      <td>Buy</td>\n",
       "      <td>0.0</td>\n",
       "      <td>0xec09451986a1874e3a980418412fcd0201f500c95bac...</td>\n",
       "      <td>52017706630</td>\n",
       "      <td>True</td>\n",
       "      <td>0.003055</td>\n",
       "      <td>1.050000e+15</td>\n",
       "      <td>1.730000e+12</td>\n",
       "    </tr>\n",
       "  </tbody>\n",
       "</table>\n",
       "</div>"
      ],
      "text/plain": [
       "                                      Account  Coin  Execution Price  \\\n",
       "0  0xae5eacaf9c6b9111fd53034a602c192a04e082ed  @107           7.9769   \n",
       "1  0xae5eacaf9c6b9111fd53034a602c192a04e082ed  @107           7.9800   \n",
       "2  0xae5eacaf9c6b9111fd53034a602c192a04e082ed  @107           7.9855   \n",
       "3  0xae5eacaf9c6b9111fd53034a602c192a04e082ed  @107           7.9874   \n",
       "4  0xae5eacaf9c6b9111fd53034a602c192a04e082ed  @107           7.9894   \n",
       "\n",
       "   Size Tokens  Size USD Side     Timestamp IST  Start Position Direction  \\\n",
       "0       986.87   7872.16  BUY  02-12-2024 22:50        0.000000       Buy   \n",
       "1        16.00    127.68  BUY  02-12-2024 22:50      986.524596       Buy   \n",
       "2       144.09   1150.63  BUY  02-12-2024 22:50     1002.518996       Buy   \n",
       "3       142.98   1142.04  BUY  02-12-2024 22:50     1146.558564       Buy   \n",
       "4         8.73     69.75  BUY  02-12-2024 22:50     1289.488521       Buy   \n",
       "\n",
       "   Closed PnL                                   Transaction Hash     Order ID  \\\n",
       "0         0.0  0xec09451986a1874e3a980418412fcd0201f500c95bac...  52017706630   \n",
       "1         0.0  0xec09451986a1874e3a980418412fcd0201f500c95bac...  52017706630   \n",
       "2         0.0  0xec09451986a1874e3a980418412fcd0201f500c95bac...  52017706630   \n",
       "3         0.0  0xec09451986a1874e3a980418412fcd0201f500c95bac...  52017706630   \n",
       "4         0.0  0xec09451986a1874e3a980418412fcd0201f500c95bac...  52017706630   \n",
       "\n",
       "   Crossed       Fee      Trade ID     Timestamp  \n",
       "0     True  0.345404  8.950000e+14  1.730000e+12  \n",
       "1     True  0.005600  4.430000e+14  1.730000e+12  \n",
       "2     True  0.050431  6.600000e+14  1.730000e+12  \n",
       "3     True  0.050043  1.080000e+15  1.730000e+12  \n",
       "4     True  0.003055  1.050000e+15  1.730000e+12  "
      ]
     },
     "execution_count": 9,
     "metadata": {},
     "output_type": "execute_result"
    }
   ],
   "source": [
    "hl_df.head()\n"
   ]
  },
  {
   "cell_type": "code",
   "execution_count": 10,
   "id": "a3d71885",
   "metadata": {},
   "outputs": [
    {
     "name": "stdout",
     "output_type": "stream",
     "text": [
      "<class 'pandas.core.frame.DataFrame'>\n",
      "RangeIndex: 211224 entries, 0 to 211223\n",
      "Data columns (total 16 columns):\n",
      " #   Column            Non-Null Count   Dtype  \n",
      "---  ------            --------------   -----  \n",
      " 0   Account           211224 non-null  object \n",
      " 1   Coin              211224 non-null  object \n",
      " 2   Execution Price   211224 non-null  float64\n",
      " 3   Size Tokens       211224 non-null  float64\n",
      " 4   Size USD          211224 non-null  float64\n",
      " 5   Side              211224 non-null  object \n",
      " 6   Timestamp IST     211224 non-null  object \n",
      " 7   Start Position    211224 non-null  float64\n",
      " 8   Direction         211224 non-null  object \n",
      " 9   Closed PnL        211224 non-null  float64\n",
      " 10  Transaction Hash  211224 non-null  object \n",
      " 11  Order ID          211224 non-null  int64  \n",
      " 12  Crossed           211224 non-null  bool   \n",
      " 13  Fee               211224 non-null  float64\n",
      " 14  Trade ID          211224 non-null  float64\n",
      " 15  Timestamp         211224 non-null  float64\n",
      "dtypes: bool(1), float64(8), int64(1), object(6)\n",
      "memory usage: 24.4+ MB\n"
     ]
    }
   ],
   "source": [
    "hl_df.info()\n"
   ]
  },
  {
   "cell_type": "code",
   "execution_count": 11,
   "id": "1f557f24",
   "metadata": {},
   "outputs": [],
   "source": [
    "hl_df['Timestamp'] = pd.to_numeric(hl_df['Timestamp'],errors='coerce')\n",
    "hl_df['datetime'] = pd.to_datetime(hl_df['Timestamp'],unit='ms',errors = 'coerce')\n",
    "\n",
    "\n",
    "hl_df.loc[hl_df['datetime'].isna(),'datetime'] = pd.to_datetime( hl_df.loc[hl_df['datetime'].isna(),'Timestamp'],unit='s',errors = 'coerce')\n",
    "hl_df.set_index('datetime',inplace=True)\n"
   ]
  },
  {
   "cell_type": "code",
   "execution_count": 12,
   "id": "a0caffc4",
   "metadata": {},
   "outputs": [],
   "source": [
    "closed_trades = hl_df[hl_df['Direction'].str.contains('Close',na = False)].copy()\n"
   ]
  },
  {
   "cell_type": "code",
   "execution_count": 13,
   "id": "7a63103f",
   "metadata": {},
   "outputs": [],
   "source": [
    "closed_trades['closedPnL'] = pd.to_numeric(closed_trades['Closed PnL'],errors = 'coerce')\n"
   ]
  },
  {
   "cell_type": "code",
   "execution_count": 14,
   "id": "e25f4143",
   "metadata": {},
   "outputs": [],
   "source": [
    "fg_resampled = fg_df.resample('min').ffill()\n"
   ]
  },
  {
   "cell_type": "code",
   "execution_count": 15,
   "id": "02ef2b00",
   "metadata": {},
   "outputs": [],
   "source": [
    "merged_df = closed_trades.join(fg_resampled[['classification','value']],how = 'left')\n"
   ]
  },
  {
   "cell_type": "code",
   "execution_count": 16,
   "id": "3324b5e2",
   "metadata": {},
   "outputs": [],
   "source": [
    "merged_df.dropna(subset=['classification'],inplace=True)\n"
   ]
  },
  {
   "cell_type": "code",
   "execution_count": 17,
   "id": "edfa7a41",
   "metadata": {},
   "outputs": [],
   "source": [
    "merged_df['trade_direction'] = np.where(merged_df['Side'] == 'BUY','Long','Short')\n",
    "def classify_sentiment(score):\n",
    "    if score <20:\n",
    "        return 'Extreme Fear'\n",
    "    elif 20 <= score < 40 :\n",
    "        return 'Fear'\n",
    "    elif 40 <= score <60:\n",
    "        return 'Neutral'\n",
    "    elif 60 <= score <= 80:\n",
    "        return 'Greedy'\n",
    "    else :\n",
    "        return 'Extreme Greed'\n",
    "\n",
    "merged_df['sentiment_bin'] = merged_df['value'].apply(classify_sentiment)\n"
   ]
  },
  {
   "cell_type": "code",
   "execution_count": 44,
   "id": "96f8ff17",
   "metadata": {},
   "outputs": [
    {
     "name": "stdout",
     "output_type": "stream",
     "text": [
      "\n",
      " Average PnL by Market Sentiment:\n",
      "                      mean          std  count           sum\n",
      "classification                                              \n",
      "Extreme Greed    40.348434   386.995727   4320  1.743052e+05\n",
      "Fear            113.883873  1371.341229  56787  6.467123e+06\n"
     ]
    },
    {
     "name": "stderr",
     "output_type": "stream",
     "text": [
      "/home/aman/miniconda3/envs/my12/lib/python3.12/site-packages/scipy/_lib/deprecation.py:234: SmallSampleWarning: One or more sample arguments is too small; all returned values will be NaN. See documentation for sample size requirements.\n",
      "  return f(*args, **kwargs)\n"
     ]
    }
   ],
   "source": [
    "pref_by_sentiment = merged_df.groupby('classification')['closedPnL'].agg(['mean','std','count','sum'])\n",
    "print('\\n Average PnL by Market Sentiment:')\n",
    "print(pref_by_sentiment)\n",
    "extreme_fear_pnl = merged_df[merged_df['classification'] == 'Extreme Fear']['closedPnL']\n",
    "extreme_greed_pnl = merged_df[merged_df['classification'] == 'Extreme Greed']['closedPnL']\n",
    "\n",
    "\n",
    "t_stat,p_val = stats.ttest_ind(extreme_fear_pnl,extreme_greed_pnl,nan_policy='omit')\n"
   ]
  },
  {
   "cell_type": "code",
   "execution_count": 19,
   "id": "bec7b5d1",
   "metadata": {},
   "outputs": [
    {
     "name": "stdout",
     "output_type": "stream",
     "text": [
      "\n",
      " Win rate by Sentiment\n",
      "classification\n",
      "Fear             0.874197\n",
      "Extreme Greed    0.785648\n",
      "Name: win, dtype: float64\n"
     ]
    }
   ],
   "source": [
    "merged_df['win'] = merged_df['closedPnL']>0\n",
    "win_rate_by_sentiment = merged_df.groupby('classification')['win'].mean().sort_values(ascending=False)\n",
    "print('\\n Win rate by Sentiment')\n",
    "print(win_rate_by_sentiment)\n"
   ]
  },
  {
   "cell_type": "code",
   "execution_count": 20,
   "id": "04a02111",
   "metadata": {},
   "outputs": [
    {
     "data": {
      "image/png": "[encoded data removed]",
      "text/plain": [
       "<Figure size 1200x600 with 1 Axes>"
      ]
     },
     "metadata": {},
     "output_type": "display_data"
    }
   ],
   "source": [
    "plt.figure(figsize=(12,6))\n",
    "sns.boxplot(x='classification',y='closedPnL',data=merged_df)\n",
    "plt.title('Closed Trade PnL by Market Sentiment')\n",
    "plt.ylabel('Profit/Loss (USD)')\n",
    "plt.xlabel('Market Sentiment')\n",
    "plt.xticks(rotation=45)\n",
    "plt.grid(True)\n",
    "plt.tight_layout()\n",
    "plt.show()\n"
   ]
  },
  {
   "cell_type": "code",
   "execution_count": 21,
   "id": "8c23e5f7",
   "metadata": {},
   "outputs": [
    {
     "data": {
      "image/png": "[encoded data removed]",
      "text/plain": [
       "<Figure size 1200x600 with 1 Axes>"
      ]
     },
     "metadata": {},
     "output_type": "display_data"
    }
   ],
   "source": [
    "plt.figure(figsize=(12,6))\n",
    "sns.histplot(data=merged_df,x = 'closedPnL',hue = 'classification',bins = 50,alpha=0.5)\n",
    "plt.title('Distribution of PnL by Sentiment')\n",
    "plt.grid(True)\n",
    "plt.show()\n"
   ]
  },
  {
   "cell_type": "code",
   "execution_count": 22,
   "id": "739ac9cf",
   "metadata": {},
   "outputs": [
    {
     "data": {
      "image/png": "[encoded data removed]",
      "text/plain": [
       "<Figure size 640x480 with 1 Axes>"
      ]
     },
     "metadata": {},
     "output_type": "display_data"
    }
   ],
   "source": [
    "win_rate_by_sentiment.plot(kind='bar',title = 'Win Rate by Sentiment')\n",
    "plt.ylabel('Win Rate')\n",
    "plt.grid(True)\n",
    "plt.tight_layout()\n",
    "plt.show()\n"
   ]
  },
  {
   "cell_type": "code",
   "execution_count": 23,
   "id": "07bfa904",
   "metadata": {},
   "outputs": [],
   "source": [
    "merged_df['signal'] = np.where(merged_df['classification'] == 'Extreme Fear','Buy', np.where(merged_df['classification'] == 'Extreme Greed', 'Sell' , 'Hold'))\n"
   ]
  },
  {
   "cell_type": "code",
   "execution_count": 24,
   "id": "9824d6d3",
   "metadata": {},
   "outputs": [
    {
     "name": "stdout",
     "output_type": "stream",
     "text": [
      "\n",
      "Trade Signal Count:\n",
      "signal\n",
      "Hold    56787\n",
      "Sell     4320\n",
      "Name: count, dtype: int64\n"
     ]
    }
   ],
   "source": [
    "signal_counts = merged_df['signal'].value_counts()\n",
    "print('\\nTrade Signal Count:')\n",
    "print(signal_counts)\n"
   ]
  },
  {
   "cell_type": "code",
   "execution_count": 25,
   "id": "3d97a5e0",
   "metadata": {},
   "outputs": [
    {
     "name": "stdout",
     "output_type": "stream",
     "text": [
      "\n",
      "Average PnL per signal:\n",
      " signal\n",
      "Hold    113.883873\n",
      "Sell     40.348434\n",
      "Name: closedPnL, dtype: float64\n"
     ]
    }
   ],
   "source": [
    "signal_Pnl = merged_df.groupby('signal')['closedPnL'].mean()\n",
    "print('\\nAverage PnL per signal:\\n', signal_Pnl)\n"
   ]
  },
  {
   "cell_type": "code",
   "execution_count": 26,
   "id": "89caf4b8",
   "metadata": {},
   "outputs": [
    {
     "name": "stdout",
     "output_type": "stream",
     "text": [
      "\n",
      "Top Performing Traders (Total Profit):\n",
      "Account\n",
      "0x083384f897ee0f19899168e3b1bec365f52a9012    1.926566e+06\n",
      "0xbaaaf6571ab7d571043ff1e313a9609a10637864    9.401258e+05\n",
      "0x4acb90e786d897ecffb614dc822eb231b4ffb9f4    6.133278e+05\n",
      "0xb1231a4a2dd02f2276fa3c5e2a2f3436e6bfed23    5.378140e+05\n",
      "0xbd5fead7180a9c139fa51a103cb6a2ce86ddb5c3    3.499599e+05\n",
      "Name: closedPnL, dtype: float64\n"
     ]
    }
   ],
   "source": [
    "top_traders = merged_df.groupby('Account')['closedPnL'].sum().sort_values(ascending=False).head()\n",
    "print('\\nTop Performing Traders (Total Profit):')\n",
    "print(top_traders)\n"
   ]
  },
  {
   "cell_type": "code",
   "execution_count": 27,
   "id": "c609472d",
   "metadata": {},
   "outputs": [
    {
     "name": "stdout",
     "output_type": "stream",
     "text": [
      "\n",
      "Best Performing Symbol:\n",
      "Coin\n",
      "HYPE        1.834691e+06\n",
      "ETH         1.434676e+06\n",
      "SOL         1.361966e+06\n",
      "BTC         5.619339e+05\n",
      "MELANIA     3.155805e+05\n",
      "                ...     \n",
      "NIL        -3.175274e+03\n",
      "AAVE       -4.324187e+03\n",
      "S          -8.644846e+03\n",
      "ADA        -2.876066e+04\n",
      "FARTCOIN   -1.078518e+05\n",
      "Name: closedPnL, Length: 153, dtype: float64\n"
     ]
    }
   ],
   "source": [
    "best_symbol = merged_df.groupby('Coin')['closedPnL'].sum().sort_values(ascending=False)\n",
    "print(\"\\nBest Performing Symbol:\")\n",
    "print(best_symbol)\n"
   ]
  },
  {
   "cell_type": "code",
   "execution_count": 28,
   "id": "fd27a00d",
   "metadata": {},
   "outputs": [
    {
     "name": "stdout",
     "output_type": "stream",
     "text": [
      "Correlation between Sentiment Score and closedPnL: -0.014213341277215553\n"
     ]
    }
   ],
   "source": [
    "correlation = merged_df['value'].corr(merged_df['closedPnL'])\n",
    "print(f'Correlation between Sentiment Score and closedPnL: {correlation}')\n",
    "\n"
   ]
  },
  {
   "cell_type": "code",
   "execution_count": 29,
   "id": "61d20094",
   "metadata": {},
   "outputs": [
    {
     "data": {
      "image/png": "[encoded data removed]",
      "text/plain": [
       "<Figure size 1000x600 with 1 Axes>"
      ]
     },
     "metadata": {},
     "output_type": "display_data"
    }
   ],
   "source": [
    "\n",
    "\n",
    "plt.figure(figsize=(10,6))\n",
    "sns.scatterplot(x='value', y='closedPnL', data=merged_df,alpha = 0.6)\n",
    "plt.axhline(0,color='r',linestyle='--')\n",
    "plt.axvline(50,color='g',linestyle='--')\n",
    "plt.title('Sentiment Score vs Trade PnL')\n",
    "plt.xlabel('Fear & Greed Index Value')\n",
    "plt.ylabel('Trade PnL (USD)')\n",
    "plt.grid(True)\n",
    "plt.show()\n"
   ]
  },
  {
   "cell_type": "code",
   "execution_count": 30,
   "id": "b820dc0b",
   "metadata": {},
   "outputs": [
    {
     "data": {
      "image/png": "[encoded data removed]",
      "text/plain": [
       "<Figure size 1200x600 with 1 Axes>"
      ]
     },
     "metadata": {},
     "output_type": "display_data"
    }
   ],
   "source": [
    "contrarian_returns = []\n",
    "for idx,row in merged_df.iterrows():\n",
    "    if row['classification'] == 'Extreme Fear':\n",
    "        contrarian_returns.append(row['closedPnL'])\n",
    "    elif row['classification'] == 'Extreme Greed':\n",
    "        contrarian_returns.append(-row['closedPnL'])\n",
    "\n",
    "cumulative_return = np.cumsum(contrarian_returns)\n",
    "\n",
    "plt.figure(figsize=(12,6))\n",
    "plt.plot(cumulative_return,label = 'Contrarian Strategy Return')\n",
    "plt.title('Cumulative Return of Contrarian Trading Strategy')\n",
    "plt.xlabel(\"Trades\")\n",
    "plt.ylabel('Cumulative Profit (USD)')\n",
    "plt.legend()\n",
    "plt.grid(True)\n",
    "plt.tight_layout()\n",
    "plt.show()\n"
   ]
  },
  {
   "cell_type": "code",
   "execution_count": null,
   "id": "9a45c074",
   "metadata": {},
   "outputs": [],
   "source": []
  }
 ],
 "metadata": {
  "kernelspec": {
   "display_name": "my12",
   "language": "python",
   "name": "python3"
  },
  "language_info": {
   "codemirror_mode": {
    "name": "ipython",
    "version": 3
   },
   "file_extension": ".py",
   "mimetype": "text/x-python",
   "name": "python",
   "nbconvert_exporter": "python",
   "pygments_lexer": "ipython3",
   "version": "3.12.9"
  }
 },
 "nbformat": 4,
 "nbformat_minor": 5
}
